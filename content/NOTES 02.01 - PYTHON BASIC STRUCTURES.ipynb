{
  "cells": [
    {
      "cell_type": "markdown",
      "metadata": {
        "id": "view-in-github",
        "colab_type": "text"
      },
      "source": [
        "<a href=\"https://colab.research.google.com/github/YorladysArgumedo06/Entrega-Final-Bite-Forge-2.0/blob/main/content/NOTES%2002.01%20-%20PYTHON%20BASIC%20STRUCTURES.ipynb\" target=\"_parent\"><img src=\"https://colab.research.google.com/assets/colab-badge.svg\" alt=\"Open In Colab\"/></a>"
      ]
    },
    {
      "cell_type": "markdown",
      "metadata": {
        "id": "MpPwnViG8ouL"
      },
      "source": [
        "# 02.01 - BASIC STRUCTURES"
      ]
    },
    {
      "cell_type": "code",
      "execution_count": null,
      "metadata": {
        "id": "V65oOT8c8ouY"
      },
      "outputs": [],
      "source": [
        "!wget --no-cache -O init.py -q https://raw.githubusercontent.com/rramosp/ai4eng.v1/main/content/init.py\n",
        "import init; init.init(force_download=False); init.get_weblink()"
      ]
    },
    {
      "cell_type": "markdown",
      "metadata": {
        "id": "Tglq_RIW8ouh"
      },
      "source": [
        "## Introduction to Python"
      ]
    },
    {
      "cell_type": "markdown",
      "metadata": {
        "id": "y8C1tbC58oui"
      },
      "source": [
        "Python is **interpreted** and **dynamically typed**. Observe in the following lines:\n",
        "\n",
        "- variables `a` and `b` have specific data types even if they are not explicitly defined.\n",
        "- python guesses their types by how they are being used (`\\\\` is integer division, while `\\` is floating point division)\n",
        "- python keeps executing stuff while no error is found $\\rightarrow$ python is interpreted"
      ]
    },
    {
      "cell_type": "code",
      "execution_count": 1,
      "metadata": {
        "id": "NLfKdf3A8oun",
        "outputId": "f866acdd-9644-4faf-d312-336cfe02062c",
        "colab": {
          "base_uri": "https://localhost:8080/"
        }
      },
      "outputs": [
        {
          "output_type": "stream",
          "name": "stdout",
          "text": [
            "4 <class 'int'>\n"
          ]
        }
      ],
      "source": [
        "a = 4\n",
        "print (a, type(a))"
      ]
    },
    {
      "cell_type": "code",
      "execution_count": null,
      "metadata": {
        "id": "sSeRt-lg8ouq",
        "outputId": "37f5e9c0-41df-4702-8eb2-20a9fbe457d1"
      },
      "outputs": [
        {
          "name": "stdout",
          "output_type": "stream",
          "text": [
            "4 <class 'float'>\n"
          ]
        }
      ],
      "source": [
        "b = 9.\n",
        "print (a, type(b))"
      ]
    },
    {
      "cell_type": "code",
      "execution_count": null,
      "metadata": {
        "id": "S8gL86168our",
        "outputId": "07d51459-50d5-4af8-ed6a-5c5ec0d89025"
      },
      "outputs": [
        {
          "name": "stdout",
          "output_type": "stream",
          "text": [
            "2.25 <class 'float'>\n"
          ]
        }
      ],
      "source": [
        "c = 9/4\n",
        "print (c, type(c))"
      ]
    },
    {
      "cell_type": "code",
      "execution_count": 2,
      "metadata": {
        "id": "v8G4eQHD8ouu",
        "outputId": "43257fc2-4874-4eb4-b45b-eea7262bd110",
        "colab": {
          "base_uri": "https://localhost:8080/"
        }
      },
      "outputs": [
        {
          "output_type": "stream",
          "name": "stdout",
          "text": [
            "2 <class 'int'>\n",
            "20\n"
          ]
        }
      ],
      "source": [
        "d = 9//4\n",
        "print (d, type(d))\n",
        "x=20\n",
        "print (x)\n"
      ]
    },
    {
      "cell_type": "markdown",
      "metadata": {
        "id": "yeRVvQSh8ouy"
      },
      "source": [
        "but types can be enforced, or used for data conversion"
      ]
    },
    {
      "cell_type": "code",
      "execution_count": null,
      "metadata": {
        "id": "gf_hjhXZ8ou0",
        "outputId": "84d985f9-ba8a-4cc5-d57c-b760a91c622a"
      },
      "outputs": [
        {
          "name": "stdout",
          "output_type": "stream",
          "text": [
            "1 :: 1.0\n"
          ]
        }
      ],
      "source": [
        "a = 1\n",
        "b = float(a)\n",
        "print (a, \"::\", b)"
      ]
    },
    {
      "cell_type": "code",
      "execution_count": null,
      "metadata": {
        "id": "VuSjXgaU8ou2",
        "outputId": "c8440fcb-e1e3-4bec-a4fc-a86d36129ee2"
      },
      "outputs": [
        {
          "name": "stdout",
          "output_type": "stream",
          "text": [
            "el valor de 'a' es 1\n"
          ]
        }
      ],
      "source": [
        "s = \"el valor de 'a' es \"+str(a)\n",
        "print (s)"
      ]
    },
    {
      "cell_type": "markdown",
      "metadata": {
        "id": "jyzwo5Hm8ou6"
      },
      "source": [
        "## Notebook cell outputs"
      ]
    },
    {
      "cell_type": "code",
      "execution_count": null,
      "metadata": {
        "id": "O9koJjur8ou7",
        "outputId": "1b83e426-e4cb-4e21-ac49-6eb8006d8af2"
      },
      "outputs": [
        {
          "data": {
            "text/plain": [
              "(1, 1.0)"
            ]
          },
          "execution_count": 7,
          "metadata": {},
          "output_type": "execute_result"
        }
      ],
      "source": [
        "a = 1\n",
        "b = float(a)\n",
        "a,b"
      ]
    },
    {
      "cell_type": "code",
      "execution_count": null,
      "metadata": {
        "id": "OxQVoWR-8ou_",
        "outputId": "78559b50-a93e-428c-d016-65d0ddcfff04"
      },
      "outputs": [
        {
          "data": {
            "text/plain": [
              "1.0"
            ]
          },
          "execution_count": 8,
          "metadata": {},
          "output_type": "execute_result"
        }
      ],
      "source": [
        "a = 1\n",
        "a\n",
        "b = float(a)\n",
        "b"
      ]
    },
    {
      "cell_type": "code",
      "execution_count": null,
      "metadata": {
        "id": "LRbGauWX8ovA",
        "outputId": "5d0102e9-3e77-4aa4-ad34-f66b7c036e73"
      },
      "outputs": [
        {
          "name": "stdout",
          "output_type": "stream",
          "text": [
            "1\n"
          ]
        },
        {
          "data": {
            "text/plain": [
              "1.0"
            ]
          },
          "execution_count": 9,
          "metadata": {},
          "output_type": "execute_result"
        }
      ],
      "source": [
        "a = 1\n",
        "print (a)\n",
        "b = float(a)\n",
        "b"
      ]
    },
    {
      "cell_type": "code",
      "execution_count": null,
      "metadata": {
        "id": "120dk52X8ovB"
      },
      "outputs": [],
      "source": []
    },
    {
      "cell_type": "markdown",
      "metadata": {
        "id": "OhuKRjf58ovC"
      },
      "source": [
        "## Lists\n",
        "\n",
        "ordered sequences of objects of **any** kind with cool indexing.\n",
        "\n",
        "indexing **starts at zero**."
      ]
    },
    {
      "cell_type": "code",
      "execution_count": null,
      "metadata": {
        "id": "-ldYvT2a8ovE"
      },
      "outputs": [],
      "source": [
        "b = [1,10, 20.5, \"hola\", 10., 12, 13, 14., 15,16, 17., 18, 19, 20.]"
      ]
    },
    {
      "cell_type": "code",
      "execution_count": null,
      "metadata": {
        "id": "wrgHmBkg8ovE",
        "outputId": "624b5e8e-3a1b-4b61-a890-93e3b45d2e9e"
      },
      "outputs": [
        {
          "name": "stdout",
          "output_type": "stream",
          "text": [
            "14\n"
          ]
        }
      ],
      "source": [
        "print (len(b))"
      ]
    },
    {
      "cell_type": "code",
      "execution_count": null,
      "metadata": {
        "id": "m8Y-SoLq8ovF",
        "outputId": "280fe93c-d0d0-45c6-8a79-ee9e8f29fbeb"
      },
      "outputs": [
        {
          "name": "stdout",
          "output_type": "stream",
          "text": [
            "[1, 10, 20.5]\n"
          ]
        }
      ],
      "source": [
        "print (b[:3])"
      ]
    },
    {
      "cell_type": "code",
      "execution_count": null,
      "metadata": {
        "id": "RhWTYmOA8ovF",
        "outputId": "0d216850-e8cc-4fe7-bd7c-1a58e548fc20"
      },
      "outputs": [
        {
          "name": "stdout",
          "output_type": "stream",
          "text": [
            "['hola', 10.0, 12, 13, 14.0, 15, 16, 17.0, 18, 19, 20.0]\n"
          ]
        }
      ],
      "source": [
        "print (b[3:])"
      ]
    },
    {
      "cell_type": "code",
      "execution_count": null,
      "metadata": {
        "id": "ml9N-88V8ovG",
        "outputId": "390de804-51f6-443f-f2d7-b22f4957e5fe"
      },
      "outputs": [
        {
          "name": "stdout",
          "output_type": "stream",
          "text": [
            "[18, 19, 20.0]\n"
          ]
        }
      ],
      "source": [
        "print (b[-3:])"
      ]
    },
    {
      "cell_type": "code",
      "execution_count": null,
      "metadata": {
        "id": "VKNIi7tj8ovI",
        "outputId": "948e7b0a-8c7d-48e9-d730-6b9fe45762d0"
      },
      "outputs": [
        {
          "name": "stdout",
          "output_type": "stream",
          "text": [
            "10.0\n"
          ]
        }
      ],
      "source": [
        "print (b[4])"
      ]
    },
    {
      "cell_type": "code",
      "execution_count": null,
      "metadata": {
        "id": "UaPFU1gJ8ovJ",
        "outputId": "37faee73-9723-46e0-eaca-2a9e95072f34"
      },
      "outputs": [
        {
          "name": "stdout",
          "output_type": "stream",
          "text": [
            "[12, 13, 14.0, 15, 16]\n"
          ]
        }
      ],
      "source": [
        "print (b[5:10])"
      ]
    },
    {
      "cell_type": "code",
      "execution_count": null,
      "metadata": {
        "id": "3wWEQw008ovK",
        "outputId": "2f3a5bfa-f88e-4f08-e62d-9ee601a1c6f4"
      },
      "outputs": [
        {
          "name": "stdout",
          "output_type": "stream",
          "text": [
            "[16, 17.0, 18]\n"
          ]
        }
      ],
      "source": [
        "print (b[-5:-2])"
      ]
    },
    {
      "cell_type": "code",
      "execution_count": null,
      "metadata": {
        "id": "RbC2VUgX8ovK",
        "outputId": "d7c2989a-a7f5-4abc-bc5f-8c72ae37014a"
      },
      "outputs": [
        {
          "name": "stdout",
          "output_type": "stream",
          "text": [
            "[1, 20.5, 10.0, 13, 15, 17.0, 19]\n"
          ]
        }
      ],
      "source": [
        "print (b[::2])"
      ]
    },
    {
      "cell_type": "code",
      "execution_count": null,
      "metadata": {
        "id": "36PI6RN58ovL",
        "outputId": "c83d2d84-f65e-4571-e785-dd4c20542c11"
      },
      "outputs": [
        {
          "name": "stdout",
          "output_type": "stream",
          "text": [
            "[20.0, 19, 18, 17.0, 16, 15, 14.0, 13, 12, 10.0, 'hola', 20.5, 10, 1]\n"
          ]
        }
      ],
      "source": [
        "print (b[::-1])"
      ]
    },
    {
      "cell_type": "code",
      "execution_count": null,
      "metadata": {
        "id": "xkcNTM9I8ovM",
        "outputId": "82f0ff1f-494c-4013-e687-9776ace52d32"
      },
      "outputs": [
        {
          "data": {
            "text/plain": [
              "[1, 10, 20.5, 'hola', 10.0, 12, 13, 14.0, 15, 16, 17.0, 18, 19, 20.0, 'elfin']"
            ]
          },
          "execution_count": 90,
          "metadata": {},
          "output_type": "execute_result"
        }
      ],
      "source": [
        "b.append('elfin')\n",
        "b"
      ]
    },
    {
      "cell_type": "markdown",
      "metadata": {
        "id": "5SzQV_4i8ovN"
      },
      "source": [
        "can use variables as indexes"
      ]
    },
    {
      "cell_type": "code",
      "execution_count": null,
      "metadata": {
        "id": "sQvkOoFk8ovN",
        "outputId": "c2d223ed-b2db-462b-8d95-9df462e80318"
      },
      "outputs": [
        {
          "name": "stdout",
          "output_type": "stream",
          "text": [
            "13 --> 20.0\n"
          ]
        }
      ],
      "source": [
        "import numpy as np\n",
        "i = np.random.randint(len(b))\n",
        "print (i, '-->', b[i])"
      ]
    },
    {
      "cell_type": "markdown",
      "metadata": {
        "id": "YbKFfaAf8ovP"
      },
      "source": [
        "truly **any** object"
      ]
    },
    {
      "cell_type": "code",
      "execution_count": null,
      "metadata": {
        "id": "8n8W3qQg8ovP"
      },
      "outputs": [],
      "source": [
        "a = 32\n",
        "b = 10\n",
        "s = [1,2,3,\"hola\", [10, \"nunca\", 90], a==b, -32]"
      ]
    },
    {
      "cell_type": "code",
      "execution_count": null,
      "metadata": {
        "id": "IldkZG8c8ovR",
        "outputId": "8a0a228d-c4ae-4796-f05b-60af5845a276"
      },
      "outputs": [
        {
          "name": "stdout",
          "output_type": "stream",
          "text": [
            "[1, 2, 3, 'hola', [10, 'nunca', 90], False, -32]\n"
          ]
        }
      ],
      "source": [
        "print (s)"
      ]
    },
    {
      "cell_type": "code",
      "execution_count": null,
      "metadata": {
        "id": "1LlJ0_PY8ovS",
        "outputId": "a1120676-77d4-4d1b-eef7-82b74210f656"
      },
      "outputs": [
        {
          "name": "stdout",
          "output_type": "stream",
          "text": [
            "7\n"
          ]
        }
      ],
      "source": [
        "print (len(s))"
      ]
    },
    {
      "cell_type": "code",
      "execution_count": null,
      "metadata": {
        "id": "11mMRAQ08ovT",
        "outputId": "0a8cbde7-0971-4bc3-ad15-b927b9889b30"
      },
      "outputs": [
        {
          "data": {
            "text/plain": [
              "[10, 'nunca', 90]"
            ]
          },
          "execution_count": 25,
          "metadata": {},
          "output_type": "execute_result"
        }
      ],
      "source": [
        "s[4]"
      ]
    },
    {
      "cell_type": "code",
      "execution_count": null,
      "metadata": {
        "id": "sjlUyXS18ovU",
        "outputId": "b22433e6-17c5-4da6-f093-70bcb6840f6a"
      },
      "outputs": [
        {
          "data": {
            "text/plain": [
              "'nunca'"
            ]
          },
          "execution_count": 26,
          "metadata": {},
          "output_type": "execute_result"
        }
      ],
      "source": [
        "s[4][1]"
      ]
    },
    {
      "cell_type": "code",
      "execution_count": null,
      "metadata": {
        "id": "6bKqbCue8ovV",
        "outputId": "7adfc8bb-84eb-4a95-8b4c-9839373967af"
      },
      "outputs": [
        {
          "data": {
            "text/plain": [
              "'o'"
            ]
          },
          "execution_count": 27,
          "metadata": {},
          "output_type": "execute_result"
        }
      ],
      "source": [
        "s[3][1]"
      ]
    },
    {
      "cell_type": "code",
      "execution_count": 3,
      "metadata": {
        "id": "NSh_9Vt-8ovW"
      },
      "outputs": [],
      "source": [
        "s = [    [10, 20],\n",
        "         [30, 40],\n",
        "         [50, 60] ]"
      ]
    },
    {
      "cell_type": "markdown",
      "metadata": {
        "id": "wUYI37J-8ovX"
      },
      "source": [
        "**some list operations**"
      ]
    },
    {
      "cell_type": "code",
      "execution_count": null,
      "metadata": {
        "id": "JnB1fKoB8ovs"
      },
      "outputs": [],
      "source": [
        "a = [\"hola\", 2, \"adios\"]\n",
        "b = [-10., 1, [3, 4]]"
      ]
    },
    {
      "cell_type": "code",
      "execution_count": null,
      "metadata": {
        "id": "RcBpszYr8ovt",
        "outputId": "7d4203bb-1e3b-48f2-bc5b-8ab9698af04b"
      },
      "outputs": [
        {
          "data": {
            "text/plain": [
              "['hola', 2, 'adios', -10.0, 1, [3, 4]]"
            ]
          },
          "execution_count": 33,
          "metadata": {},
          "output_type": "execute_result"
        }
      ],
      "source": [
        "a + b"
      ]
    },
    {
      "cell_type": "code",
      "execution_count": null,
      "metadata": {
        "id": "cJCdPdg98ovu",
        "outputId": "ec3565cb-90b9-469a-dcd4-e77861b08585"
      },
      "outputs": [
        {
          "data": {
            "text/plain": [
              "['hola', 2, 'adios', 'hola', 2, 'adios']"
            ]
          },
          "execution_count": 34,
          "metadata": {},
          "output_type": "execute_result"
        }
      ],
      "source": [
        "a + a"
      ]
    },
    {
      "cell_type": "code",
      "execution_count": null,
      "metadata": {
        "id": "OIy43kra8ovw",
        "outputId": "39c771c6-18c4-41e2-ad0d-57212553aeaf"
      },
      "outputs": [
        {
          "data": {
            "text/plain": [
              "['hola', 2, 'adios', 'hola', 2, 'adios']"
            ]
          },
          "execution_count": 35,
          "metadata": {},
          "output_type": "execute_result"
        }
      ],
      "source": [
        "a*2"
      ]
    },
    {
      "cell_type": "code",
      "execution_count": null,
      "metadata": {
        "id": "SmPRHXFg8ov1",
        "outputId": "73852261-4a0e-4e80-afd1-2001f138b324"
      },
      "outputs": [
        {
          "ename": "TypeError",
          "evalue": "unsupported operand type(s) for -: 'list' and 'list'",
          "output_type": "error",
          "traceback": [
            "\u001b[0;31m---------------------------------------------------------------------------\u001b[0m",
            "\u001b[0;31mTypeError\u001b[0m                                 Traceback (most recent call last)",
            "\u001b[0;32m<ipython-input-36-09bd029d0285>\u001b[0m in \u001b[0;36m<module>\u001b[0;34m\u001b[0m\n\u001b[0;32m----> 1\u001b[0;31m \u001b[0ma\u001b[0m \u001b[0;34m-\u001b[0m \u001b[0mb\u001b[0m\u001b[0;34m\u001b[0m\u001b[0;34m\u001b[0m\u001b[0m\n\u001b[0m",
            "\u001b[0;31mTypeError\u001b[0m: unsupported operand type(s) for -: 'list' and 'list'"
          ]
        }
      ],
      "source": [
        "a - b"
      ]
    },
    {
      "cell_type": "code",
      "execution_count": null,
      "metadata": {
        "id": "1KaDfcWG8ov2",
        "outputId": "97d7d7a1-1b3f-4568-8950-bd23b369291c"
      },
      "outputs": [
        {
          "data": {
            "text/plain": [
              "True"
            ]
          },
          "execution_count": 37,
          "metadata": {},
          "output_type": "execute_result"
        }
      ],
      "source": [
        "2 in a"
      ]
    },
    {
      "cell_type": "code",
      "execution_count": null,
      "metadata": {
        "id": "y-QEoYx48ov3",
        "outputId": "cc44dbf0-000f-4db3-c470-d10f4f70c3f0"
      },
      "outputs": [
        {
          "data": {
            "text/plain": [
              "True"
            ]
          },
          "execution_count": 38,
          "metadata": {},
          "output_type": "execute_result"
        }
      ],
      "source": [
        "\"hola\" not in b"
      ]
    },
    {
      "cell_type": "code",
      "execution_count": null,
      "metadata": {
        "id": "kayl9MCj8ov4",
        "outputId": "5d43da2f-b8ad-4de8-a902-9a891494d447"
      },
      "outputs": [
        {
          "data": {
            "text/plain": [
              "True"
            ]
          },
          "execution_count": 39,
          "metadata": {},
          "output_type": "execute_result"
        }
      ],
      "source": [
        "[3,4] in b"
      ]
    },
    {
      "cell_type": "code",
      "execution_count": null,
      "metadata": {
        "id": "w4htvJeA8ov8"
      },
      "outputs": [],
      "source": []
    },
    {
      "cell_type": "markdown",
      "metadata": {
        "id": "EzqnXYTt8ov-"
      },
      "source": [
        "## Strings\n",
        "\n",
        "a string is like a special kind of list"
      ]
    },
    {
      "cell_type": "code",
      "execution_count": null,
      "metadata": {
        "id": "AJPQn0Tc8ov-",
        "outputId": "41c788a6-60ed-4548-efc4-946a6332fa45"
      },
      "outputs": [
        {
          "data": {
            "text/plain": [
              "'en un lugar de la mancha'"
            ]
          },
          "execution_count": 40,
          "metadata": {},
          "output_type": "execute_result"
        }
      ],
      "source": [
        "a = \"en un lugar de la mancha\"\n",
        "a"
      ]
    },
    {
      "cell_type": "code",
      "execution_count": null,
      "metadata": {
        "id": "1hEpmjc98owA",
        "outputId": "ece18250-7db1-4595-e8f1-252aaed9f78b"
      },
      "outputs": [
        {
          "data": {
            "text/plain": [
              "'un lugar de la mancha'"
            ]
          },
          "execution_count": 41,
          "metadata": {},
          "output_type": "execute_result"
        }
      ],
      "source": [
        "a[3:]"
      ]
    },
    {
      "cell_type": "code",
      "execution_count": null,
      "metadata": {
        "id": "MG8qmzIN8owB",
        "outputId": "b0b7d700-bcf3-4724-eae9-a9c48c276b49"
      },
      "outputs": [
        {
          "data": {
            "text/plain": [
              "' la mancha'"
            ]
          },
          "execution_count": 42,
          "metadata": {},
          "output_type": "execute_result"
        }
      ],
      "source": [
        "a[-10:]"
      ]
    },
    {
      "cell_type": "code",
      "execution_count": null,
      "metadata": {
        "id": "ciM1av9i8owC",
        "outputId": "52d79671-08db-4bde-c2ea-db5da9f1c244"
      },
      "outputs": [
        {
          "data": {
            "text/plain": [
              "'ahcnam al ed ragul nu ne'"
            ]
          },
          "execution_count": 43,
          "metadata": {},
          "output_type": "execute_result"
        }
      ],
      "source": [
        "a[::-1]"
      ]
    },
    {
      "cell_type": "code",
      "execution_count": null,
      "metadata": {
        "id": "SGi-C3yw8owD",
        "outputId": "3b6c63ab-4379-429b-cdd0-4dd23ca1a0f7"
      },
      "outputs": [
        {
          "data": {
            "text/plain": [
              "'e nlgrd amnh'"
            ]
          },
          "execution_count": 44,
          "metadata": {},
          "output_type": "execute_result"
        }
      ],
      "source": [
        "a[::2]"
      ]
    },
    {
      "cell_type": "code",
      "execution_count": null,
      "metadata": {
        "id": "hjrSEx6x8owK",
        "outputId": "c5f67553-2b20-4e27-c2e8-6401cf435c41"
      },
      "outputs": [
        {
          "data": {
            "text/plain": [
              "True"
            ]
          },
          "execution_count": 45,
          "metadata": {},
          "output_type": "execute_result"
        }
      ],
      "source": [
        "'lugar' in a"
      ]
    },
    {
      "cell_type": "markdown",
      "metadata": {
        "id": "P5oonROo8owN"
      },
      "source": [
        "with special operations"
      ]
    },
    {
      "cell_type": "code",
      "execution_count": null,
      "metadata": {
        "id": "gVVoIyoj8owO",
        "outputId": "dd0b8bc9-2100-428e-96f0-5554b64a9732"
      },
      "outputs": [
        {
          "data": {
            "text/plain": [
              "['en', 'un', 'lugar', 'de', 'la', 'mancha']"
            ]
          },
          "execution_count": 46,
          "metadata": {},
          "output_type": "execute_result"
        }
      ],
      "source": [
        "words = a.split()\n",
        "words"
      ]
    },
    {
      "cell_type": "code",
      "execution_count": null,
      "metadata": {
        "id": "Oo6l6cth8owP",
        "outputId": "8eb93831-661f-45ef-9498-67c45e21f812"
      },
      "outputs": [
        {
          "data": {
            "text/plain": [
              "'en::un::lugar::de::la::mancha'"
            ]
          },
          "execution_count": 47,
          "metadata": {},
          "output_type": "execute_result"
        }
      ],
      "source": [
        "\"::\".join(words)"
      ]
    },
    {
      "cell_type": "code",
      "execution_count": null,
      "metadata": {
        "id": "C3d2c9pn8owW",
        "outputId": "1fc52182-c9bc-4991-d444-4181695b6a42"
      },
      "outputs": [
        {
          "data": {
            "text/plain": [
              "'EN UN LUGAR DE LA MANCHA'"
            ]
          },
          "execution_count": 48,
          "metadata": {},
          "output_type": "execute_result"
        }
      ],
      "source": [
        "a.upper()"
      ]
    },
    {
      "cell_type": "code",
      "execution_count": null,
      "metadata": {
        "id": "6Mu_nxaC8owX",
        "outputId": "7e2079ab-1214-4f3c-d366-afeafc8e46ef"
      },
      "outputs": [
        {
          "data": {
            "text/plain": [
              "True"
            ]
          },
          "execution_count": 49,
          "metadata": {},
          "output_type": "execute_result"
        }
      ],
      "source": [
        "a.startswith(\"en\")"
      ]
    },
    {
      "cell_type": "code",
      "execution_count": null,
      "metadata": {
        "id": "RXBbhJav8owe",
        "outputId": "71549cf7-2967-41dc-f5b4-69e63182738d"
      },
      "outputs": [
        {
          "data": {
            "text/plain": [
              "False"
            ]
          },
          "execution_count": 50,
          "metadata": {},
          "output_type": "execute_result"
        }
      ],
      "source": [
        "a.endswith(\"lugar\")"
      ]
    },
    {
      "cell_type": "code",
      "execution_count": null,
      "metadata": {
        "id": "q8hHS4nM8owf",
        "outputId": "faa4fca5-c9d0-4d7d-e0bd-27b7ca29a02b"
      },
      "outputs": [
        {
          "data": {
            "text/plain": [
              "6"
            ]
          },
          "execution_count": 51,
          "metadata": {},
          "output_type": "execute_result"
        }
      ],
      "source": [
        "a.find('lugar')"
      ]
    },
    {
      "cell_type": "code",
      "execution_count": null,
      "metadata": {
        "id": "sUvkL9c58owg",
        "outputId": "540c8d19-9771-4438-ae8b-5814709fb2d1"
      },
      "outputs": [
        {
          "data": {
            "text/plain": [
              "'lugar de la mancha'"
            ]
          },
          "execution_count": 52,
          "metadata": {},
          "output_type": "execute_result"
        }
      ],
      "source": [
        "a[a.find('lugar'):]"
      ]
    },
    {
      "cell_type": "code",
      "execution_count": null,
      "metadata": {
        "id": "DNmtJfZ18owg"
      },
      "outputs": [],
      "source": []
    },
    {
      "cell_type": "markdown",
      "metadata": {
        "id": "x9ulzLDl8owh"
      },
      "source": [
        "## `for` loops\n",
        "\n",
        "unlike other languages, `for` loops are defined over **iterables**. A `list` is an iterable, and there are many other iterables.\n",
        "\n",
        "Python syntax is **indented**.\n",
        "\n",
        "Observe python determines the semantics of `*` according to the context"
      ]
    },
    {
      "cell_type": "code",
      "execution_count": null,
      "metadata": {
        "id": "O8Zin-wa8owh"
      },
      "outputs": [],
      "source": [
        "b = [1,10, 20.5, \"hola\", 10.]"
      ]
    },
    {
      "cell_type": "code",
      "execution_count": null,
      "metadata": {
        "id": "Xi4lzI5k8owo",
        "outputId": "0fd5235d-2a0d-4119-eccb-ac9573654fda"
      },
      "outputs": [
        {
          "name": "stdout",
          "output_type": "stream",
          "text": [
            "1 --> <class 'int'> x2 --> 2\n",
            "10 --> <class 'int'> x2 --> 20\n",
            "20.5 --> <class 'float'> x2 --> 41.0\n",
            "hola --> <class 'str'> x2 --> holahola\n",
            "10.0 --> <class 'float'> x2 --> 20.0\n"
          ]
        }
      ],
      "source": [
        "for i in b:\n",
        "    print (i, \"-->\", type(i), \"x2 -->\", i*2)"
      ]
    },
    {
      "cell_type": "markdown",
      "metadata": {
        "id": "tbCeVSVf8owr"
      },
      "source": [
        "another example of python as interpreted language"
      ]
    },
    {
      "cell_type": "code",
      "execution_count": null,
      "metadata": {
        "id": "OQ8F1UWA8owt",
        "outputId": "4f38a5b9-02e9-4580-a2cf-b68196644e3b"
      },
      "outputs": [
        {
          "name": "stdout",
          "output_type": "stream",
          "text": [
            "1 --> <class 'int'> x2 --> 1\n",
            "10 --> <class 'int'> x2 --> 100\n",
            "20.5 --> <class 'float'> x2 --> 420.25\n"
          ]
        },
        {
          "ename": "TypeError",
          "evalue": "unsupported operand type(s) for ** or pow(): 'str' and 'int'",
          "output_type": "error",
          "traceback": [
            "\u001b[0;31m---------------------------------------------------------------------------\u001b[0m",
            "\u001b[0;31mTypeError\u001b[0m                                 Traceback (most recent call last)",
            "\u001b[0;32m<ipython-input-55-4b8904782ded>\u001b[0m in \u001b[0;36m<module>\u001b[0;34m\u001b[0m\n\u001b[1;32m      1\u001b[0m \u001b[0mb\u001b[0m \u001b[0;34m=\u001b[0m \u001b[0;34m[\u001b[0m\u001b[0;36m1\u001b[0m\u001b[0;34m,\u001b[0m\u001b[0;36m10\u001b[0m\u001b[0;34m,\u001b[0m \u001b[0;36m20.5\u001b[0m\u001b[0;34m,\u001b[0m \u001b[0;34m\"hola\"\u001b[0m\u001b[0;34m,\u001b[0m \u001b[0;36m10.\u001b[0m\u001b[0;34m]\u001b[0m\u001b[0;34m\u001b[0m\u001b[0;34m\u001b[0m\u001b[0m\n\u001b[1;32m      2\u001b[0m \u001b[0;32mfor\u001b[0m \u001b[0mi\u001b[0m \u001b[0;32min\u001b[0m \u001b[0mb\u001b[0m\u001b[0;34m:\u001b[0m\u001b[0;34m\u001b[0m\u001b[0;34m\u001b[0m\u001b[0m\n\u001b[0;32m----> 3\u001b[0;31m     \u001b[0mprint\u001b[0m \u001b[0;34m(\u001b[0m\u001b[0mi\u001b[0m\u001b[0;34m,\u001b[0m \u001b[0;34m\"-->\"\u001b[0m\u001b[0;34m,\u001b[0m \u001b[0mtype\u001b[0m\u001b[0;34m(\u001b[0m\u001b[0mi\u001b[0m\u001b[0;34m)\u001b[0m\u001b[0;34m,\u001b[0m \u001b[0;34m\"x2 -->\"\u001b[0m\u001b[0;34m,\u001b[0m \u001b[0mi\u001b[0m\u001b[0;34m**\u001b[0m\u001b[0;36m2\u001b[0m\u001b[0;34m)\u001b[0m\u001b[0;34m\u001b[0m\u001b[0;34m\u001b[0m\u001b[0m\n\u001b[0m",
            "\u001b[0;31mTypeError\u001b[0m: unsupported operand type(s) for ** or pow(): 'str' and 'int'"
          ]
        }
      ],
      "source": [
        "b = [1,10, 20.5, \"hola\", 10.]\n",
        "for i in b:\n",
        "    print (i, \"-->\", type(i), \"x2 -->\", i**2)"
      ]
    },
    {
      "cell_type": "markdown",
      "metadata": {
        "id": "TJUPU6dO8owu"
      },
      "source": [
        "**iterators**\n",
        "\n",
        "sometimes we do not need to hold all the contents of a list in memory, but they can be generated as they are being asked for."
      ]
    },
    {
      "cell_type": "code",
      "execution_count": null,
      "metadata": {
        "scrolled": true,
        "id": "1eidngJE8oww",
        "outputId": "88d75856-8d6f-4094-9fc5-84c3702c95fe"
      },
      "outputs": [
        {
          "data": {
            "text/plain": [
              "range(-3, 10, 2)"
            ]
          },
          "execution_count": 56,
          "metadata": {},
          "output_type": "execute_result"
        }
      ],
      "source": [
        "k = range(-3,10,2)\n",
        "k"
      ]
    },
    {
      "cell_type": "markdown",
      "metadata": {
        "id": "qDAyo8L38owy"
      },
      "source": [
        "size in memory"
      ]
    },
    {
      "cell_type": "code",
      "execution_count": null,
      "metadata": {
        "id": "kl4cXUcY8owy",
        "outputId": "75f5cc4e-0fe8-4e8a-edfb-53c4cb3667d5"
      },
      "outputs": [
        {
          "data": {
            "text/plain": [
              "48"
            ]
          },
          "execution_count": 57,
          "metadata": {},
          "output_type": "execute_result"
        }
      ],
      "source": [
        "k.__sizeof__()"
      ]
    },
    {
      "cell_type": "code",
      "execution_count": null,
      "metadata": {
        "id": "zQgG1VOz8ow5",
        "outputId": "ccba8d1e-b426-4fce-fcba-bca0bc88bc89"
      },
      "outputs": [
        {
          "name": "stdout",
          "output_type": "stream",
          "text": [
            "-3, -1, 1, 3, 5, 7, 9, "
          ]
        }
      ],
      "source": [
        "for i in k:\n",
        "    print (i, end=\", \")"
      ]
    },
    {
      "cell_type": "code",
      "execution_count": null,
      "metadata": {
        "id": "xjQpaHCS8ow6",
        "outputId": "108f2ee7-6871-425b-e349-12ca88ea1525"
      },
      "outputs": [
        {
          "data": {
            "text/plain": [
              "48"
            ]
          },
          "execution_count": 59,
          "metadata": {},
          "output_type": "execute_result"
        }
      ],
      "source": [
        "big_range = range(0,100000,2)\n",
        "big_range.__sizeof__()"
      ]
    },
    {
      "cell_type": "code",
      "execution_count": null,
      "metadata": {
        "id": "rTNX7jv88ow9",
        "outputId": "f6b2c9ac-3fdd-496f-9d19-a16beb0efdfa"
      },
      "outputs": [
        {
          "data": {
            "text/plain": [
              "2499950000"
            ]
          },
          "execution_count": 60,
          "metadata": {},
          "output_type": "execute_result"
        }
      ],
      "source": [
        "s = 0\n",
        "for i in big_range:\n",
        "    s += i\n",
        "s"
      ]
    },
    {
      "cell_type": "markdown",
      "metadata": {
        "id": "iEbyQ2vv8ow-"
      },
      "source": [
        "if converted to a list, then they are physically in memory"
      ]
    },
    {
      "cell_type": "code",
      "execution_count": null,
      "metadata": {
        "id": "rcF9JzBY8oxB",
        "outputId": "4599d557-bbb1-44f9-c232-13ecb6a0e0d8"
      },
      "outputs": [
        {
          "data": {
            "text/plain": [
              "450088"
            ]
          },
          "execution_count": 61,
          "metadata": {},
          "output_type": "execute_result"
        }
      ],
      "source": [
        "a = list(big_range)\n",
        "a.__sizeof__()"
      ]
    },
    {
      "cell_type": "markdown",
      "metadata": {
        "id": "Clr8wbZN8oxC"
      },
      "source": [
        "zip iterators"
      ]
    },
    {
      "cell_type": "code",
      "execution_count": null,
      "metadata": {
        "id": "WJrxhy3M8oxC",
        "outputId": "01f07737-f2ec-44c0-a12e-53e8c21106f3"
      },
      "outputs": [
        {
          "name": "stdout",
          "output_type": "stream",
          "text": [
            "nada 1\n",
            "adios 10\n",
            "10.0 20.5\n"
          ]
        }
      ],
      "source": [
        "a = [\"nada\", \"adios\", 10.]\n",
        "b = [1,10, 20.5, \"hola\", 10.]\n",
        "\n",
        "for i,j in zip(a,b):\n",
        "    print (i,j)"
      ]
    },
    {
      "cell_type": "code",
      "execution_count": null,
      "metadata": {
        "id": "k-aMxZfl8oxE"
      },
      "outputs": [],
      "source": []
    },
    {
      "cell_type": "markdown",
      "metadata": {
        "id": "8vEhn4cO8oxE"
      },
      "source": [
        "## Other control structures\n",
        "\n",
        "string formatting / if / then / break / continue / while, etc."
      ]
    },
    {
      "cell_type": "code",
      "execution_count": null,
      "metadata": {
        "id": "Gz6Vysm88oxF",
        "outputId": "353b6dfb-7e2c-4b37-99e5-9677825a011b"
      },
      "outputs": [
        {
          "name": "stdout",
          "output_type": "stream",
          "text": [
            "1 <class 'int'>\n",
            "10 <class 'int'>\n",
            "20.5 <class 'float'>\n"
          ]
        }
      ],
      "source": [
        "b = [1,10, 20.5, \"hola\", 10., 12]\n",
        "for i in b:\n",
        "    if i=='hola':\n",
        "        break\n",
        "    print (i, type(i))"
      ]
    },
    {
      "cell_type": "code",
      "execution_count": null,
      "metadata": {
        "id": "4Ipe4spT8oxJ",
        "outputId": "9b2b15fb-2484-4ea5-8f7c-9396b8308918"
      },
      "outputs": [
        {
          "name": "stdout",
          "output_type": "stream",
          "text": [
            "INT 1 <class 'int'>\n",
            "INT 10 <class 'int'>\n",
            ">10 20.5 <class 'float'>\n"
          ]
        }
      ],
      "source": [
        "b = [1,10, 20.5, \"hola\", 10., 12]\n",
        "for i in b:\n",
        "    if i=='hola':\n",
        "        break\n",
        "    elif type(i)==int:\n",
        "        print (\"INT\", end=\" \")\n",
        "    elif i>10:\n",
        "        print (\">10\", end=\" \")\n",
        "    print (i, type(i))"
      ]
    },
    {
      "cell_type": "code",
      "execution_count": null,
      "metadata": {
        "id": "SY3K0wYv8oxJ",
        "outputId": "d04d723f-fa09-480c-fcfa-833044ddedac"
      },
      "outputs": [
        {
          "name": "stdout",
          "output_type": "stream",
          "text": [
            "INT 1 <class 'int'>\n",
            "INT 10 <class 'int'>\n",
            ">10 20.5 <class 'float'>\n",
            "UNK 10.0 <class 'float'>\n",
            "INT 12 <class 'int'>\n"
          ]
        }
      ],
      "source": [
        "for i in b:\n",
        "    if i=='hola':\n",
        "        continue\n",
        "    elif type(i)==int:\n",
        "        print (\"INT\", end=\" \")\n",
        "    elif i>10:\n",
        "        print (\">10\", end=\" \")\n",
        "    else:\n",
        "        print (\"UNK\", end=\" \")\n",
        "    print (i, type(i))\n",
        ""
      ]
    },
    {
      "cell_type": "code",
      "execution_count": null,
      "metadata": {
        "id": "idwOPbxx8oxK",
        "outputId": "3f1e81cb-eed3-43e1-e3a2-6edf28ead8c8"
      },
      "outputs": [
        {
          "name": "stdout",
          "output_type": "stream",
          "text": [
            "00 ::   1.0 ::        <class 'int'>\n",
            "01 ::  10.0 ::        <class 'int'>\n",
            "02 ::  20.5 ::      <class 'float'>\n",
            "04 ::  10.0 ::      <class 'float'>\n",
            "05 ::  12.0 ::        <class 'int'>\n"
          ]
        }
      ],
      "source": [
        "for pos, i in enumerate(b):\n",
        "    if i=='hola':\n",
        "        continue\n",
        "    print (\"%02d :: %5.1f :: %20s\"%(pos,i,type(i)))"
      ]
    },
    {
      "cell_type": "code",
      "execution_count": null,
      "metadata": {
        "id": "Vsb3160i8oxL",
        "outputId": "031c0bf9-05ce-455a-c35d-2f224a42018f"
      },
      "outputs": [
        {
          "name": "stdout",
          "output_type": "stream",
          "text": [
            "1 10 <class 'int'>\n",
            "2 20.5 <class 'float'>\n",
            "3 hola <class 'str'>\n",
            "4 10.0 <class 'float'>\n",
            "5 12 <class 'int'>\n"
          ]
        }
      ],
      "source": [
        "i=1\n",
        "while i<len(b):\n",
        "    print (i, b[i], type(b[i]))\n",
        "    i += 1"
      ]
    },
    {
      "cell_type": "markdown",
      "metadata": {
        "id": "JeCXtvSZ8oxL"
      },
      "source": [
        "## Dictionaries"
      ]
    },
    {
      "cell_type": "code",
      "execution_count": null,
      "metadata": {
        "id": "cxUf_GEI8oxL",
        "outputId": "e76cd839-54d6-49d7-91d3-cba942d70c5f"
      },
      "outputs": [
        {
          "data": {
            "text/plain": [
              "16"
            ]
          },
          "execution_count": 68,
          "metadata": {},
          "output_type": "execute_result"
        }
      ],
      "source": [
        "d = {\"i1\": 16, \"nombre\": \"haskel\", \"edad\": 32, 20: \"el numero 20\"}\n",
        "\n",
        "d['i1']"
      ]
    },
    {
      "cell_type": "code",
      "execution_count": null,
      "metadata": {
        "id": "pxzZMvBK8oxM",
        "outputId": "86893d0e-761a-48d7-e238-e12e7e0a0200"
      },
      "outputs": [
        {
          "data": {
            "text/plain": [
              "'el numero 20'"
            ]
          },
          "execution_count": 69,
          "metadata": {},
          "output_type": "execute_result"
        }
      ],
      "source": [
        "d[20]"
      ]
    },
    {
      "cell_type": "code",
      "execution_count": null,
      "metadata": {
        "id": "YZ4szgai8oxN",
        "outputId": "c0870116-5650-41c2-8816-c7b5a5e00ce0"
      },
      "outputs": [
        {
          "data": {
            "text/plain": [
              "dict_values([16, 'haskel', 32, 'el numero 20'])"
            ]
          },
          "execution_count": 70,
          "metadata": {},
          "output_type": "execute_result"
        }
      ],
      "source": [
        "d.values()"
      ]
    },
    {
      "cell_type": "code",
      "execution_count": null,
      "metadata": {
        "id": "W_sjDQSD8oxO",
        "outputId": "e522e31d-fc73-4ea4-e162-4b4ad5430e41"
      },
      "outputs": [
        {
          "data": {
            "text/plain": [
              "dict_keys(['i1', 'nombre', 'edad', 20])"
            ]
          },
          "execution_count": 71,
          "metadata": {},
          "output_type": "execute_result"
        }
      ],
      "source": [
        "d.keys()"
      ]
    },
    {
      "cell_type": "code",
      "execution_count": null,
      "metadata": {
        "id": "AgaC-JmS8oxO",
        "outputId": "4d8ef550-edee-45a1-e5d3-f1ad2acfee0b"
      },
      "outputs": [
        {
          "name": "stdout",
          "output_type": "stream",
          "text": [
            "la clave i1 tiene el valor 16\n",
            "la clave nombre tiene el valor haskel\n",
            "la clave edad tiene el valor 32\n",
            "la clave 20 tiene el valor el numero 20\n"
          ]
        }
      ],
      "source": [
        "for i in d.keys():\n",
        "    print(\"la clave\", i, \"tiene el valor\", d[i])"
      ]
    },
    {
      "cell_type": "code",
      "execution_count": null,
      "metadata": {
        "id": "_BTZcmDm8oxP",
        "outputId": "cada0995-7870-4fc6-a09f-fbf86cc9b97e"
      },
      "outputs": [
        {
          "name": "stdout",
          "output_type": "stream",
          "text": [
            "la clave i1 tiene el valor 16\n",
            "la clave nombre tiene el valor haskel\n",
            "la clave edad tiene el valor 32\n",
            "la clave 20 tiene el valor el numero 20\n"
          ]
        }
      ],
      "source": [
        "for k,v in d.items():\n",
        "    print(\"la clave\", k, \"tiene el valor\", v)"
      ]
    },
    {
      "cell_type": "markdown",
      "metadata": {
        "id": "TfcIVtmE8oxQ"
      },
      "source": [
        "and can be updated"
      ]
    },
    {
      "cell_type": "code",
      "execution_count": null,
      "metadata": {
        "id": "Bh3RXrHx8oxQ"
      },
      "outputs": [],
      "source": [
        "d[48] = \"otro numero\"\n",
        "d[\"nada\"] = 0"
      ]
    },
    {
      "cell_type": "code",
      "execution_count": null,
      "metadata": {
        "id": "mcGIuzkG8oxR",
        "outputId": "08e440b8-1f45-4981-8338-34da4344d184"
      },
      "outputs": [
        {
          "name": "stdout",
          "output_type": "stream",
          "text": [
            "la clave i1 tiene el valor 16\n",
            "la clave nombre tiene el valor haskel\n",
            "la clave edad tiene el valor 32\n",
            "la clave 20 tiene el valor el numero 20\n",
            "la clave 48 tiene el valor otro numero\n",
            "la clave nada tiene el valor 0\n"
          ]
        }
      ],
      "source": [
        "for k,v in d.items():\n",
        "    print(\"la clave\", k, \"tiene el valor\", v)"
      ]
    },
    {
      "cell_type": "markdown",
      "metadata": {
        "id": "YnzDk4hE8oxS"
      },
      "source": [
        "## Tuples\n",
        "\n",
        "tuples are **inmutable** lists"
      ]
    },
    {
      "cell_type": "code",
      "execution_count": null,
      "metadata": {
        "id": "1qE_2iQd8oxS"
      },
      "outputs": [],
      "source": [
        "a = (10,3,4,5)"
      ]
    },
    {
      "cell_type": "code",
      "execution_count": null,
      "metadata": {
        "id": "qHX4Nbia8oxS",
        "outputId": "d57a8020-e8fb-4b98-f244-a24c2fac1e8e"
      },
      "outputs": [
        {
          "data": {
            "text/plain": [
              "(5, (5, 4, 3, 10), 22)"
            ]
          },
          "execution_count": 6,
          "metadata": {},
          "output_type": "execute_result"
        }
      ],
      "source": [
        "a[3], a[::-1], sum(a)"
      ]
    },
    {
      "cell_type": "code",
      "execution_count": null,
      "metadata": {
        "id": "QJMAdybU8oxT",
        "outputId": "d7de8f2d-810d-4b48-b5c1-4f1121879406"
      },
      "outputs": [
        {
          "ename": "TypeError",
          "evalue": "'tuple' object does not support item assignment",
          "output_type": "error",
          "traceback": [
            "\u001b[0;31m---------------------------------------------------------------------------\u001b[0m",
            "\u001b[0;31mTypeError\u001b[0m                                 Traceback (most recent call last)",
            "\u001b[0;32m<ipython-input-4-36ab6b9a6038>\u001b[0m in \u001b[0;36m<module>\u001b[0;34m\u001b[0m\n\u001b[0;32m----> 1\u001b[0;31m \u001b[0ma\u001b[0m\u001b[0;34m[\u001b[0m\u001b[0;36m3\u001b[0m\u001b[0;34m]\u001b[0m\u001b[0;34m=\u001b[0m\u001b[0;36m1\u001b[0m\u001b[0;34m\u001b[0m\u001b[0;34m\u001b[0m\u001b[0m\n\u001b[0m",
            "\u001b[0;31mTypeError\u001b[0m: 'tuple' object does not support item assignment"
          ]
        }
      ],
      "source": [
        "a[3]=1"
      ]
    },
    {
      "cell_type": "markdown",
      "metadata": {
        "id": "XjcNos3u8oxV"
      },
      "source": [
        "and thus can be used for keys, indexing, etc."
      ]
    },
    {
      "cell_type": "code",
      "execution_count": null,
      "metadata": {
        "id": "QCbh4OlU8oxW",
        "outputId": "f774c4f0-aa6d-4dd0-c8ff-f455eff5633c"
      },
      "outputs": [
        {
          "data": {
            "text/plain": [
              "{'hola': 3, 1: 'one', (4, 5): 'a tuple'}"
            ]
          },
          "execution_count": 8,
          "metadata": {},
          "output_type": "execute_result"
        }
      ],
      "source": [
        "d = {}\n",
        "d[\"hola\"] = 3\n",
        "d[1] = \"one\"\n",
        "d[(4,5)] = \"a tuple\"\n",
        "d"
      ]
    },
    {
      "cell_type": "markdown",
      "metadata": {
        "id": "vwZzpDbs8oxc"
      },
      "source": [
        "however"
      ]
    },
    {
      "cell_type": "code",
      "execution_count": null,
      "metadata": {
        "id": "NsAmu4-A8oxd",
        "outputId": "7e4ebcc4-f942-45cc-f884-039ac800ea4e"
      },
      "outputs": [
        {
          "ename": "TypeError",
          "evalue": "unhashable type: 'list'",
          "output_type": "error",
          "traceback": [
            "\u001b[0;31m---------------------------------------------------------------------------\u001b[0m",
            "\u001b[0;31mTypeError\u001b[0m                                 Traceback (most recent call last)",
            "\u001b[0;32m<ipython-input-9-857cb2d3ff14>\u001b[0m in \u001b[0;36m<module>\u001b[0;34m\u001b[0m\n\u001b[0;32m----> 1\u001b[0;31m \u001b[0md\u001b[0m\u001b[0;34m[\u001b[0m\u001b[0;34m[\u001b[0m\u001b[0;36m4\u001b[0m\u001b[0;34m,\u001b[0m\u001b[0;36m5\u001b[0m\u001b[0;34m]\u001b[0m\u001b[0;34m]\u001b[0m\u001b[0;34m\u001b[0m\u001b[0;34m\u001b[0m\u001b[0m\n\u001b[0m",
            "\u001b[0;31mTypeError\u001b[0m: unhashable type: 'list'"
          ]
        }
      ],
      "source": [
        "d[[4,5]]"
      ]
    },
    {
      "cell_type": "code",
      "execution_count": null,
      "metadata": {
        "id": "vvBM2DTG8oxe"
      },
      "outputs": [],
      "source": []
    }
  ],
  "metadata": {
    "kernelspec": {
      "display_name": "Python 3",
      "language": "python",
      "name": "python3"
    },
    "language_info": {
      "codemirror_mode": {
        "name": "ipython",
        "version": 3
      },
      "file_extension": ".py",
      "mimetype": "text/x-python",
      "name": "python",
      "nbconvert_exporter": "python",
      "pygments_lexer": "ipython3",
      "version": "3.7.6"
    },
    "colab": {
      "provenance": [],
      "include_colab_link": true
    }
  },
  "nbformat": 4,
  "nbformat_minor": 0
}