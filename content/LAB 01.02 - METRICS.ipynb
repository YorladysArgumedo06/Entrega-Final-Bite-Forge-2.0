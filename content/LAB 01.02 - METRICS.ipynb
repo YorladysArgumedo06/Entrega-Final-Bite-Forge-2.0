{
  "cells": [
    {
      "cell_type": "markdown",
      "metadata": {
        "id": "JuIe_nktGFvs"
      },
      "source": [
        "# LAB 01.02 - Metrics"
      ]
    },
    {
      "cell_type": "code",
      "execution_count": 9,
      "metadata": {
        "id": "KMNVeU25GFvv",
        "outputId": "df450404-93eb-400d-d6f8-51752d36912a",
        "colab": {
          "base_uri": "https://localhost:8080/",
          "height": 58
        }
      },
      "outputs": [
        {
          "output_type": "display_data",
          "data": {
            "text/plain": [
              "<IPython.core.display.HTML object>"
            ],
            "text/html": [
              "\n",
              "<meta name=\"google-signin-client_id\"\n",
              "      content=\"461673936472-kdjosv61up3ac1ajeuq6qqu72upilmls.apps.googleusercontent.com\"/>\n",
              "<script src=\"https://apis.google.com/js/client:platform.js?onload=google_button_start\"></script>\n",
              "    "
            ]
          },
          "metadata": {}
        },
        {
          "output_type": "execute_result",
          "data": {
            "text/plain": [
              "<IPython.core.display.HTML object>"
            ],
            "text/html": [
              "<h3>See <a href='https://m5knaekxo6.execute-api.us-west-2.amazonaws.com/dev-v0001/rlxmooc/web/login' target='_blank'>my courses and progress</a></h2>"
            ]
          },
          "metadata": {},
          "execution_count": 9
        }
      ],
      "source": [
        "!wget --no-cache -O init.py -q https://raw.githubusercontent.com/rramosp/ai4eng.v1/main/content/init.py\n",
        "import init, inspect; init.init(force_download=False); init.get_weblink()\n"
      ]
    },
    {
      "cell_type": "code",
      "execution_count": 10,
      "metadata": {
        "id": "GU2s6RExGFvy",
        "outputId": "161257a4-4b91-4a2e-c154-3a896c3438cf",
        "colab": {
          "base_uri": "https://localhost:8080/",
          "height": 85,
          "referenced_widgets": [
            "b73e66120fa84f0bbc4aa30be0508b0c",
            "50fcea39070b4a9684cc3031d9eed787",
            "37c985c5ff094c80a1bc647d4ef47cc2",
            "50a80d3e9c4b42fcb7026a93dac1368c",
            "b4f5a3da1cac477a9bd89dd7cf338a8b",
            "d3a69b2c4fa6473d9635311c60908cb4",
            "08aac2b47ea74b63856897dc0878720c",
            "f4426558f1dd4b2c83d606db82871cea",
            "43e14fe3afa44d9fa4b64b413cbd06e2",
            "43580573a91a4590b8ab0489dd44a101",
            "1fcf76be27e84ed5893a08d7fd673f65",
            "f6a9f467791a4518b88182a6ccce7ed6",
            "d0465bd9fdb047418854f148b186012b",
            "d43fe3fe668f4e45bedf8cd3340ba195",
            "4b2c2d8c96c348aca557da3120c10521",
            "75c4a0df3a7f45638d5977d7d5497c43",
            "001ca6aba6d944269d12ec21c99e6fca",
            "dc673bcf029a4622820bb05d30143e8c",
            "f6263d1451ae437d97c4a7159e07f08f"
          ]
        }
      },
      "outputs": [
        {
          "output_type": "stream",
          "name": "stdout",
          "text": [
            "logging in as yorladys.argumedo@udea.edu.co... please wait\n",
            "\n",
            "-------------\n",
            "using course session ai4eng.v1.udea.r3::2025.2\n",
            "success!! you are logged in\n",
            "-------------\n"
          ]
        }
      ],
      "source": [
        "from local.lib.rlxmoocapi import submit, session\n",
        "session.LoginSequence(endpoint=init.endpoint, course_id=init.course_id, lab_id=\"L01.02\", varname=\"student\");"
      ]
    },
    {
      "cell_type": "markdown",
      "metadata": {
        "id": "Wtvr7gcBGFvy"
      },
      "source": [
        "## General remark\n",
        "\n",
        "You do not need to use Python to solve the problems in this notebook, you can use any tool of your choice (Excel, etc.), including **pen and paper**. But\n",
        "\n",
        "### If you want to try out in Python\n",
        "\n",
        "- `numpy` is the Python library used for vectors\n",
        "- there are operations that take a vector and produce another vector (i.e. `np.log`)\n",
        "- there are operations that take a vector and procude a number (i.e. `np.mean`)\n",
        "- there are operations that take two vectors and produce a number (see the **HINTs** below)\n",
        "- etc.\n",
        "\n",
        "For instance"
      ]
    },
    {
      "cell_type": "code",
      "execution_count": null,
      "metadata": {
        "scrolled": true,
        "id": "9smnDAYqGFvz"
      },
      "outputs": [],
      "source": [
        "import numpy as np\n",
        "\n",
        "v1 = np.array([1,2,3,4])\n",
        "\n",
        "# the log of each element of the vector\n",
        "print ( \"the log   =\", np.log(v1)  )\n",
        "\n",
        "# the mean of all elements of the vector\n",
        "print ( \"the mean  =\",  np.mean(v1)  )\n",
        "\n",
        "# multiply all elements of a vector with a scalar\n",
        "print (\"times two =\", 2*v1)"
      ]
    },
    {
      "cell_type": "markdown",
      "metadata": {
        "id": "O9aI0zpKGFvz"
      },
      "source": [
        "you can always check the type of any variable"
      ]
    },
    {
      "cell_type": "code",
      "execution_count": null,
      "metadata": {
        "id": "FVlZ5AdAGFv0"
      },
      "outputs": [],
      "source": [
        "a = 2.0\n",
        "type(v1), type(a)"
      ]
    },
    {
      "cell_type": "markdown",
      "metadata": {
        "id": "HdjixWoXGFv0"
      },
      "source": [
        "## Task 01. Accuracy\n",
        "\n",
        "Compute the percentage of correct predictions **accuracy** (see [here](https://en.wikipedia.org/wiki/Sensitivity_and_specificity#Definitions)) for the following model output (`predicted`) and ground truth (`actual`).\n",
        "\n",
        "Execute the following cell to generate the data from which you must compute the metric. You may compute the metric implementing python code, or manually, or copy/pasting the actual and predicted data in Excel, etc.\n",
        "\n",
        "**CHALLENGE**: use Python with [`sklearn.metrics.accuracy_score`](https://scikit-learn.org/stable/modules/generated/sklearn.metrics.accuracy_score.html#sklearn.metrics.accuracy_score)\n",
        "\n",
        "\n",
        "Observe that every time you execute the following cell, **a different set of values** is generated. You will have to compute the metric **for the values that you see**. If you run the cell again you will have to compute your metric value again."
      ]
    },
    {
      "cell_type": "code",
      "execution_count": null,
      "metadata": {
        "id": "cBn_j4exGFv1"
      },
      "outputs": [],
      "source": [
        "import numpy as np\n",
        "t1_actual    = np.random.randint(2, size=20)\n",
        "t1_predicted = np.abs(t1_actual*(np.random.random(size=20)>(np.random.random()*.9+.05)).astype(int))\n",
        "print (\"actual   \", \", \".join([str(i) for i in t1_actual]))\n",
        "print (\"predicted\", \", \".join([str(i) for i in t1_predicted]))"
      ]
    },
    {
      "cell_type": "markdown",
      "metadata": {
        "id": "hGRgvqwpGFv1"
      },
      "source": [
        "Assign the value of your computation to the `accuracy` variable, **with three decimal places**"
      ]
    },
    {
      "cell_type": "code",
      "execution_count": 15,
      "metadata": {
        "id": "xoXzdqsUGFv2"
      },
      "outputs": [],
      "source": [
        "accuracy = 0,850"
      ]
    },
    {
      "cell_type": "markdown",
      "metadata": {
        "id": "ofToceRaGFv2"
      },
      "source": [
        "#### submit your answer"
      ]
    },
    {
      "cell_type": "code",
      "execution_count": 16,
      "metadata": {
        "id": "VXGku4VSGFv2",
        "outputId": "a1f1d2cf-7895-4779-d3f6-b2f6274a136c",
        "colab": {
          "base_uri": "https://localhost:8080/",
          "height": 209
        }
      },
      "outputs": [
        {
          "output_type": "error",
          "ename": "KeyError",
          "evalue": "'t1_actual'",
          "traceback": [
            "\u001b[0;31m---------------------------------------------------------------------------\u001b[0m",
            "\u001b[0;31mKeyError\u001b[0m                                  Traceback (most recent call last)",
            "\u001b[0;32m/tmp/ipython-input-3108895609.py\u001b[0m in \u001b[0;36m<cell line: 0>\u001b[0;34m()\u001b[0m\n\u001b[0;32m----> 1\u001b[0;31m \u001b[0mstudent\u001b[0m\u001b[0;34m.\u001b[0m\u001b[0msubmit_task\u001b[0m\u001b[0;34m(\u001b[0m\u001b[0mglobals\u001b[0m\u001b[0;34m(\u001b[0m\u001b[0;34m)\u001b[0m\u001b[0;34m,\u001b[0m \u001b[0mtask_id\u001b[0m\u001b[0;34m=\u001b[0m\u001b[0;34m\"task_01\"\u001b[0m\u001b[0;34m)\u001b[0m\u001b[0;34m;\u001b[0m\u001b[0;34m\u001b[0m\u001b[0;34m\u001b[0m\u001b[0m\n\u001b[0m",
            "\u001b[0;32m/content/local/lib/rlxmoocapi/session.py\u001b[0m in \u001b[0;36msubmit_task\u001b[0;34m(self, namespace, course_id, session_id, lab_id, task_id, user_id, display_html)\u001b[0m\n",
            "\u001b[0;32m/content/local/lib/rlxmoocapi/session.py\u001b[0m in \u001b[0;36msubmit_task\u001b[0;34m(self, namespace, course_id, session_id, lab_id, task_id, user_id, display_html)\u001b[0m\n",
            "\u001b[0;31mKeyError\u001b[0m: 't1_actual'"
          ]
        }
      ],
      "source": [
        "student.submit_task(globals(), task_id=\"task_01\");"
      ]
    },
    {
      "cell_type": "markdown",
      "metadata": {
        "id": "CLyYAgYlGFv3"
      },
      "source": [
        "## Task 2: Sensitivity\n",
        "\n",
        "Compute the sensitivity metric [aka the _True Positive Rate_ or _Recall_ see [Sensitivity on Wikipedia](https://en.wikipedia.org/wiki/Sensitivity_and_specificity)] for the following model output (`predicted`) and ground truth (`actual`)\n",
        "\n",
        "Execute the following cell to generate the data from which you must compute the metric. You may compute the metric implementing python code, or manually, or copy/pasting the actual and predicted data in Excel, etc.\n",
        "\n",
        "**Challenge**: Use Python [`sklearn.metrics.recall_score`](https://scikit-learn.org/stable/modules/generated/sklearn.metrics.recall_score.html)\n",
        "\n",
        "\n",
        "Observe that every time you execute the following cell, **a different set of values** is generated. You will have to compute the metric **for the values that you see**. If you run the cell again you will have to compute your metric value again."
      ]
    },
    {
      "cell_type": "code",
      "execution_count": null,
      "metadata": {
        "id": "nYE9d2T7GFv3"
      },
      "outputs": [],
      "source": [
        "import numpy as np\n",
        "t2_predicted = np.random.randint(2, size=20)\n",
        "t2_actual = np.random.randint(2, size=20)\n",
        "t2_predicted[np.argwhere(t2_actual==1)[0][0]]=0\n",
        "print (\"actual   \", \", \".join([str(i) for i in t2_actual]))\n",
        "print (\"predicted\", \", \".join([str(i) for i in t2_predicted]))"
      ]
    },
    {
      "cell_type": "markdown",
      "metadata": {
        "id": "9CNhLZfDGFv3"
      },
      "source": [
        "Assign the value of your computation to the `tpr` variable **with three decimal places**"
      ]
    },
    {
      "cell_type": "code",
      "execution_count": null,
      "metadata": {
        "id": "IdLvXXvUGFv4"
      },
      "outputs": [],
      "source": [
        "tpr ="
      ]
    },
    {
      "cell_type": "markdown",
      "metadata": {
        "id": "V01GMkpjGFv4"
      },
      "source": [
        "#### submit your answer"
      ]
    },
    {
      "cell_type": "code",
      "execution_count": null,
      "metadata": {
        "scrolled": true,
        "id": "oBmWDgJdGFv4"
      },
      "outputs": [],
      "source": [
        "student.submit_task(globals(), task_id=\"task_02\");"
      ]
    },
    {
      "cell_type": "markdown",
      "metadata": {
        "id": "JLnD7svuGFv5"
      },
      "source": [
        "## Task 3: Evaluation in New York City Taxi Trip Duration Kaggle Competition\n",
        "\n",
        "Understand the data and the evaluation metric (**Root Mean Squared Logarithmic Error**, RMSLE) of the following Kaggle competition\n",
        "\n",
        "- [https://www.kaggle.com/c/nyc-taxi-trip-duration/](https://www.kaggle.com/c/nyc-taxi-trip-duration/)\n",
        "\n",
        "Observe that this competition is a **regression task** as we are measuring the difference in prediction with respect to the actual.\n",
        "\n",
        "For instance, the following model predictions and ground truth:\n",
        "\n",
        "    actual    [66 37 22]\n",
        "    predicted [79 51 67]\n",
        "    \n",
        "produce a **RMSLE** of 0.66 aprox.\n",
        "\n",
        "Execute the following cell to generate the data from which you must compute the metric. You may compute the metric implementing python code, or manually, or copy/pasting the actual and predicted data in Excel, etc.\n",
        "\n",
        "**Challenge**: For python use numpy function `np.log` or `np.log1p`\n",
        "\n",
        "Observe that every time you execute the following cell, **a different set of values** is generated. You will have to compute the metric **for the values that you see**. If you run the cell again you will have to compute your metric value again."
      ]
    },
    {
      "cell_type": "code",
      "execution_count": null,
      "metadata": {
        "id": "20mUrZIWGFv5"
      },
      "outputs": [],
      "source": [
        "t3_actual    = np.random.randint(80,size=15)+20\n",
        "t3_predicted = np.random.randint(80,size=15)+20\n",
        "print (\"actual   \", t3_actual)\n",
        "print (\"predicted\", t3_predicted)"
      ]
    },
    {
      "cell_type": "markdown",
      "metadata": {
        "id": "HVhzBszbGFv6"
      },
      "source": [
        "Assign the value of your computation to the `rmsle` variable **with three decimal places**"
      ]
    },
    {
      "cell_type": "code",
      "execution_count": null,
      "metadata": {
        "id": "Uu17WCzaGFv6"
      },
      "outputs": [],
      "source": [
        "rmsle ="
      ]
    },
    {
      "cell_type": "markdown",
      "metadata": {
        "id": "G9slyYvjGFv7"
      },
      "source": [
        "#### submit your answer"
      ]
    },
    {
      "cell_type": "code",
      "execution_count": null,
      "metadata": {
        "scrolled": false,
        "id": "Fi5aBLBcGFv7"
      },
      "outputs": [],
      "source": [
        "student.submit_task(globals(), task_id=\"task_03\");"
      ]
    },
    {
      "cell_type": "markdown",
      "metadata": {
        "id": "0x-ck5MyGFv7"
      },
      "source": [
        "## Task 4: Evaluation in Shelter Animal Outcomes Kaggle Competition\n",
        "\n",
        "Understand the data and the evaluation metric (**Multiclass Logaritmic Loss**, _logloss_) of the following Kaggle competition\n",
        "\n",
        "- [https://www.kaggle.com/c/shelter-animal-outcomes/](https://www.kaggle.com/c/shelter-animal-outcomes/)\n",
        "\n",
        "Observe that this competition is a **classification task with 5 classes** and, for each item, the model produces a probability for each class. Classes are numbered from 0 to 4.\n",
        "\n",
        "For instance, the following represents the model output for **three items**\n",
        "\n",
        "    [[0.17 0.27 0.03 0.31 0.21]\n",
        "     [0.09 0.44 0.02 0.15 0.3 ]\n",
        "     [0.26 0.18 0.25 0.2  0.11]]\n",
        "     \n",
        "Where the classes with gretest probability assigned by the model are\n",
        "\n",
        "- class 3 for the first item (with 0.31 probability)\n",
        "- class 1 for the second item (with 0.44 probability)\n",
        "- class 0 for the third item (with 0.26 probability)\n",
        "\n",
        "The class labels are expressed as a similar matrix, but with 0/1\n",
        "For instance, the ground truth for the corresponding three items above, could be:\n",
        "\n",
        "    [[0 0 0 1 0]\n",
        "     [0 0 1 0 0]\n",
        "     [1 0 0 0 0]]\n",
        "\n",
        "and will produce a **logloss** of approx 2.14\n",
        "\n",
        "Execute the following cell to generate the data from which you must compute the metric. You may compute the metric implementing python code, or manually, or copy/pasting the actual and predicted data in Excel, etc."
      ]
    },
    {
      "cell_type": "code",
      "execution_count": null,
      "metadata": {
        "id": "P6R60fuZGFv8"
      },
      "outputs": [],
      "source": [
        "import numpy as np\n",
        "\n",
        "t4_predicted = np.random.random(size=(7,5)).T+0.5\n",
        "t4_predicted = np.round((t4_predicted/np.sum(t4_predicted,axis=0)),2).T\n",
        "\n",
        "t4_actual = np.eye(5)[np.random.randint(5,size=len(t4_predicted))].astype(int)\n",
        "\n",
        "print (\"actual\")\n",
        "print (t4_actual)\n",
        "print (\"\\npredicted\")\n",
        "print (t4_predicted)"
      ]
    },
    {
      "cell_type": "markdown",
      "metadata": {
        "id": "kaX9f9AyGFv8"
      },
      "source": [
        "Assign the value of your computation to the `logloss` variable **with three decimal places**"
      ]
    },
    {
      "cell_type": "code",
      "execution_count": null,
      "metadata": {
        "id": "TYA0Bs_IGFv9"
      },
      "outputs": [],
      "source": [
        "logloss ="
      ]
    },
    {
      "cell_type": "markdown",
      "metadata": {
        "id": "ZlZdfeqBGFv9"
      },
      "source": [
        "#### submit your answer"
      ]
    },
    {
      "cell_type": "code",
      "execution_count": null,
      "metadata": {
        "scrolled": false,
        "id": "CkQyQBsBGFv9"
      },
      "outputs": [],
      "source": [
        "student.submit_task(globals(), task_id=\"task_04\");"
      ]
    }
  ],
  "metadata": {
    "kernelspec": {
      "display_name": "Python 3",
      "language": "python",
      "name": "python3"
    },
    "language_info": {
      "codemirror_mode": {
        "name": "ipython",
        "version": 3
      },
      "file_extension": ".py",
      "mimetype": "text/x-python",
      "name": "python",
      "nbconvert_exporter": "python",
      "pygments_lexer": "ipython3",
      "version": "3.7.3"
    },
    "colab": {
      "provenance": []
    },
    "widgets": {
      "application/vnd.jupyter.widget-state+json": {
        "b73e66120fa84f0bbc4aa30be0508b0c": {
          "model_module": "@jupyter-widgets/controls",
          "model_name": "HBoxModel",
          "model_module_version": "1.5.0",
          "state": {
            "_dom_classes": [],
            "_model_module": "@jupyter-widgets/controls",
            "_model_module_version": "1.5.0",
            "_model_name": "HBoxModel",
            "_view_count": null,
            "_view_module": "@jupyter-widgets/controls",
            "_view_module_version": "1.5.0",
            "_view_name": "HBoxView",
            "box_style": "",
            "children": [
              "IPY_MODEL_50fcea39070b4a9684cc3031d9eed787",
              "IPY_MODEL_37c985c5ff094c80a1bc647d4ef47cc2",
              "IPY_MODEL_50a80d3e9c4b42fcb7026a93dac1368c",
              "IPY_MODEL_b4f5a3da1cac477a9bd89dd7cf338a8b"
            ],
            "layout": "IPY_MODEL_d3a69b2c4fa6473d9635311c60908cb4"
          }
        },
        "50fcea39070b4a9684cc3031d9eed787": {
          "model_module": "@jupyter-widgets/controls",
          "model_name": "VBoxModel",
          "model_module_version": "1.5.0",
          "state": {
            "_dom_classes": [],
            "_model_module": "@jupyter-widgets/controls",
            "_model_module_version": "1.5.0",
            "_model_name": "VBoxModel",
            "_view_count": null,
            "_view_module": "@jupyter-widgets/controls",
            "_view_module_version": "1.5.0",
            "_view_name": "VBoxView",
            "box_style": "",
            "children": [
              "IPY_MODEL_08aac2b47ea74b63856897dc0878720c",
              "IPY_MODEL_f4426558f1dd4b2c83d606db82871cea"
            ],
            "layout": "IPY_MODEL_43e14fe3afa44d9fa4b64b413cbd06e2"
          }
        },
        "37c985c5ff094c80a1bc647d4ef47cc2": {
          "model_module": "@jupyter-widgets/controls",
          "model_name": "ButtonModel",
          "model_module_version": "1.5.0",
          "state": {
            "_dom_classes": [
              "login_button"
            ],
            "_model_module": "@jupyter-widgets/controls",
            "_model_module_version": "1.5.0",
            "_model_name": "ButtonModel",
            "_view_count": null,
            "_view_module": "@jupyter-widgets/controls",
            "_view_module_version": "1.5.0",
            "_view_name": "ButtonView",
            "button_style": "",
            "description": "Login with email",
            "disabled": false,
            "icon": "",
            "layout": "IPY_MODEL_43580573a91a4590b8ab0489dd44a101",
            "style": "IPY_MODEL_1fcf76be27e84ed5893a08d7fd673f65",
            "tooltip": ""
          }
        },
        "50a80d3e9c4b42fcb7026a93dac1368c": {
          "model_module": "@jupyter-widgets/controls",
          "model_name": "HTMLModel",
          "model_module_version": "1.5.0",
          "state": {
            "_dom_classes": [],
            "_model_module": "@jupyter-widgets/controls",
            "_model_module_version": "1.5.0",
            "_model_name": "HTMLModel",
            "_view_count": null,
            "_view_module": "@jupyter-widgets/controls",
            "_view_module_version": "1.5.0",
            "_view_name": "HTMLView",
            "description": "",
            "description_tooltip": null,
            "layout": "IPY_MODEL_f6a9f467791a4518b88182a6ccce7ed6",
            "placeholder": "​",
            "style": "IPY_MODEL_d0465bd9fdb047418854f148b186012b",
            "value": "<center><big>or</big></center>"
          }
        },
        "b4f5a3da1cac477a9bd89dd7cf338a8b": {
          "model_module": "@jupyter-widgets/controls",
          "model_name": "ButtonModel",
          "model_module_version": "1.5.0",
          "state": {
            "_dom_classes": [
              "google_button"
            ],
            "_model_module": "@jupyter-widgets/controls",
            "_model_module_version": "1.5.0",
            "_model_name": "ButtonModel",
            "_view_count": null,
            "_view_module": "@jupyter-widgets/controls",
            "_view_module_version": "1.5.0",
            "_view_name": "ButtonView",
            "button_style": "",
            "description": "Login with Google",
            "disabled": false,
            "icon": "",
            "layout": "IPY_MODEL_d43fe3fe668f4e45bedf8cd3340ba195",
            "style": "IPY_MODEL_4b2c2d8c96c348aca557da3120c10521",
            "tooltip": ""
          }
        },
        "d3a69b2c4fa6473d9635311c60908cb4": {
          "model_module": "@jupyter-widgets/base",
          "model_name": "LayoutModel",
          "model_module_version": "1.2.0",
          "state": {
            "_model_module": "@jupyter-widgets/base",
            "_model_module_version": "1.2.0",
            "_model_name": "LayoutModel",
            "_view_count": null,
            "_view_module": "@jupyter-widgets/base",
            "_view_module_version": "1.2.0",
            "_view_name": "LayoutView",
            "align_content": null,
            "align_items": null,
            "align_self": null,
            "border": null,
            "bottom": null,
            "display": null,
            "flex": null,
            "flex_flow": null,
            "grid_area": null,
            "grid_auto_columns": null,
            "grid_auto_flow": null,
            "grid_auto_rows": null,
            "grid_column": null,
            "grid_gap": null,
            "grid_row": null,
            "grid_template_areas": null,
            "grid_template_columns": null,
            "grid_template_rows": null,
            "height": null,
            "justify_content": null,
            "justify_items": null,
            "left": null,
            "margin": null,
            "max_height": null,
            "max_width": null,
            "min_height": null,
            "min_width": null,
            "object_fit": null,
            "object_position": null,
            "order": null,
            "overflow": null,
            "overflow_x": null,
            "overflow_y": null,
            "padding": null,
            "right": null,
            "top": null,
            "visibility": null,
            "width": null
          }
        },
        "08aac2b47ea74b63856897dc0878720c": {
          "model_module": "@jupyter-widgets/controls",
          "model_name": "TextModel",
          "model_module_version": "1.5.0",
          "state": {
            "_dom_classes": [],
            "_model_module": "@jupyter-widgets/controls",
            "_model_module_version": "1.5.0",
            "_model_name": "TextModel",
            "_view_count": null,
            "_view_module": "@jupyter-widgets/controls",
            "_view_module_version": "1.5.0",
            "_view_name": "TextView",
            "continuous_update": true,
            "description": "email",
            "description_tooltip": null,
            "disabled": false,
            "layout": "IPY_MODEL_75c4a0df3a7f45638d5977d7d5497c43",
            "placeholder": "​",
            "style": "IPY_MODEL_001ca6aba6d944269d12ec21c99e6fca",
            "value": ""
          }
        },
        "f4426558f1dd4b2c83d606db82871cea": {
          "model_module": "@jupyter-widgets/controls",
          "model_name": "PasswordModel",
          "model_module_version": "1.5.0",
          "state": {
            "_dom_classes": [],
            "_model_module": "@jupyter-widgets/controls",
            "_model_module_version": "1.5.0",
            "_model_name": "PasswordModel",
            "_view_count": null,
            "_view_module": "@jupyter-widgets/controls",
            "_view_module_version": "1.5.0",
            "_view_name": "PasswordView",
            "continuous_update": true,
            "description": "password",
            "description_tooltip": null,
            "disabled": false,
            "layout": "IPY_MODEL_dc673bcf029a4622820bb05d30143e8c",
            "placeholder": "​",
            "style": "IPY_MODEL_f6263d1451ae437d97c4a7159e07f08f",
            "value": ""
          }
        },
        "43e14fe3afa44d9fa4b64b413cbd06e2": {
          "model_module": "@jupyter-widgets/base",
          "model_name": "LayoutModel",
          "model_module_version": "1.2.0",
          "state": {
            "_model_module": "@jupyter-widgets/base",
            "_model_module_version": "1.2.0",
            "_model_name": "LayoutModel",
            "_view_count": null,
            "_view_module": "@jupyter-widgets/base",
            "_view_module_version": "1.2.0",
            "_view_name": "LayoutView",
            "align_content": null,
            "align_items": null,
            "align_self": null,
            "border": null,
            "bottom": null,
            "display": null,
            "flex": null,
            "flex_flow": null,
            "grid_area": null,
            "grid_auto_columns": null,
            "grid_auto_flow": null,
            "grid_auto_rows": null,
            "grid_column": null,
            "grid_gap": null,
            "grid_row": null,
            "grid_template_areas": null,
            "grid_template_columns": null,
            "grid_template_rows": null,
            "height": null,
            "justify_content": null,
            "justify_items": null,
            "left": null,
            "margin": null,
            "max_height": null,
            "max_width": null,
            "min_height": null,
            "min_width": null,
            "object_fit": null,
            "object_position": null,
            "order": null,
            "overflow": null,
            "overflow_x": null,
            "overflow_y": null,
            "padding": null,
            "right": null,
            "top": null,
            "visibility": null,
            "width": null
          }
        },
        "43580573a91a4590b8ab0489dd44a101": {
          "model_module": "@jupyter-widgets/base",
          "model_name": "LayoutModel",
          "model_module_version": "1.2.0",
          "state": {
            "_model_module": "@jupyter-widgets/base",
            "_model_module_version": "1.2.0",
            "_model_name": "LayoutModel",
            "_view_count": null,
            "_view_module": "@jupyter-widgets/base",
            "_view_module_version": "1.2.0",
            "_view_name": "LayoutView",
            "align_content": null,
            "align_items": null,
            "align_self": null,
            "border": null,
            "bottom": null,
            "display": null,
            "flex": null,
            "flex_flow": null,
            "grid_area": null,
            "grid_auto_columns": null,
            "grid_auto_flow": null,
            "grid_auto_rows": null,
            "grid_column": null,
            "grid_gap": null,
            "grid_row": null,
            "grid_template_areas": null,
            "grid_template_columns": null,
            "grid_template_rows": null,
            "height": "53px",
            "justify_content": null,
            "justify_items": null,
            "left": null,
            "margin": null,
            "max_height": null,
            "max_width": null,
            "min_height": null,
            "min_width": null,
            "object_fit": null,
            "object_position": null,
            "order": null,
            "overflow": null,
            "overflow_x": null,
            "overflow_y": null,
            "padding": null,
            "right": null,
            "top": null,
            "visibility": null,
            "width": "150px"
          }
        },
        "1fcf76be27e84ed5893a08d7fd673f65": {
          "model_module": "@jupyter-widgets/controls",
          "model_name": "ButtonStyleModel",
          "model_module_version": "1.5.0",
          "state": {
            "_model_module": "@jupyter-widgets/controls",
            "_model_module_version": "1.5.0",
            "_model_name": "ButtonStyleModel",
            "_view_count": null,
            "_view_module": "@jupyter-widgets/base",
            "_view_module_version": "1.2.0",
            "_view_name": "StyleView",
            "button_color": null,
            "font_weight": ""
          }
        },
        "f6a9f467791a4518b88182a6ccce7ed6": {
          "model_module": "@jupyter-widgets/base",
          "model_name": "LayoutModel",
          "model_module_version": "1.2.0",
          "state": {
            "_model_module": "@jupyter-widgets/base",
            "_model_module_version": "1.2.0",
            "_model_name": "LayoutModel",
            "_view_count": null,
            "_view_module": "@jupyter-widgets/base",
            "_view_module_version": "1.2.0",
            "_view_name": "LayoutView",
            "align_content": null,
            "align_items": null,
            "align_self": null,
            "border": null,
            "bottom": null,
            "display": null,
            "flex": null,
            "flex_flow": null,
            "grid_area": null,
            "grid_auto_columns": null,
            "grid_auto_flow": null,
            "grid_auto_rows": null,
            "grid_column": null,
            "grid_gap": null,
            "grid_row": null,
            "grid_template_areas": null,
            "grid_template_columns": null,
            "grid_template_rows": null,
            "height": null,
            "justify_content": null,
            "justify_items": null,
            "left": null,
            "margin": null,
            "max_height": null,
            "max_width": null,
            "min_height": null,
            "min_width": null,
            "object_fit": null,
            "object_position": null,
            "order": null,
            "overflow": null,
            "overflow_x": null,
            "overflow_y": null,
            "padding": null,
            "right": null,
            "top": null,
            "visibility": null,
            "width": "100px"
          }
        },
        "d0465bd9fdb047418854f148b186012b": {
          "model_module": "@jupyter-widgets/controls",
          "model_name": "DescriptionStyleModel",
          "model_module_version": "1.5.0",
          "state": {
            "_model_module": "@jupyter-widgets/controls",
            "_model_module_version": "1.5.0",
            "_model_name": "DescriptionStyleModel",
            "_view_count": null,
            "_view_module": "@jupyter-widgets/base",
            "_view_module_version": "1.2.0",
            "_view_name": "StyleView",
            "description_width": ""
          }
        },
        "d43fe3fe668f4e45bedf8cd3340ba195": {
          "model_module": "@jupyter-widgets/base",
          "model_name": "LayoutModel",
          "model_module_version": "1.2.0",
          "state": {
            "_model_module": "@jupyter-widgets/base",
            "_model_module_version": "1.2.0",
            "_model_name": "LayoutModel",
            "_view_count": null,
            "_view_module": "@jupyter-widgets/base",
            "_view_module_version": "1.2.0",
            "_view_name": "LayoutView",
            "align_content": null,
            "align_items": null,
            "align_self": null,
            "border": null,
            "bottom": null,
            "display": null,
            "flex": null,
            "flex_flow": null,
            "grid_area": null,
            "grid_auto_columns": null,
            "grid_auto_flow": null,
            "grid_auto_rows": null,
            "grid_column": null,
            "grid_gap": null,
            "grid_row": null,
            "grid_template_areas": null,
            "grid_template_columns": null,
            "grid_template_rows": null,
            "height": "53px",
            "justify_content": null,
            "justify_items": null,
            "left": null,
            "margin": null,
            "max_height": null,
            "max_width": null,
            "min_height": null,
            "min_width": null,
            "object_fit": null,
            "object_position": null,
            "order": null,
            "overflow": null,
            "overflow_x": null,
            "overflow_y": null,
            "padding": null,
            "right": null,
            "top": null,
            "visibility": null,
            "width": "200px"
          }
        },
        "4b2c2d8c96c348aca557da3120c10521": {
          "model_module": "@jupyter-widgets/controls",
          "model_name": "ButtonStyleModel",
          "model_module_version": "1.5.0",
          "state": {
            "_model_module": "@jupyter-widgets/controls",
            "_model_module_version": "1.5.0",
            "_model_name": "ButtonStyleModel",
            "_view_count": null,
            "_view_module": "@jupyter-widgets/base",
            "_view_module_version": "1.2.0",
            "_view_name": "StyleView",
            "button_color": null,
            "font_weight": ""
          }
        },
        "75c4a0df3a7f45638d5977d7d5497c43": {
          "model_module": "@jupyter-widgets/base",
          "model_name": "LayoutModel",
          "model_module_version": "1.2.0",
          "state": {
            "_model_module": "@jupyter-widgets/base",
            "_model_module_version": "1.2.0",
            "_model_name": "LayoutModel",
            "_view_count": null,
            "_view_module": "@jupyter-widgets/base",
            "_view_module_version": "1.2.0",
            "_view_name": "LayoutView",
            "align_content": null,
            "align_items": null,
            "align_self": null,
            "border": null,
            "bottom": null,
            "display": null,
            "flex": null,
            "flex_flow": null,
            "grid_area": null,
            "grid_auto_columns": null,
            "grid_auto_flow": null,
            "grid_auto_rows": null,
            "grid_column": null,
            "grid_gap": null,
            "grid_row": null,
            "grid_template_areas": null,
            "grid_template_columns": null,
            "grid_template_rows": null,
            "height": "25px",
            "justify_content": null,
            "justify_items": null,
            "left": null,
            "margin": null,
            "max_height": null,
            "max_width": null,
            "min_height": null,
            "min_width": null,
            "object_fit": null,
            "object_position": null,
            "order": null,
            "overflow": null,
            "overflow_x": null,
            "overflow_y": null,
            "padding": null,
            "right": null,
            "top": null,
            "visibility": null,
            "width": "300px"
          }
        },
        "001ca6aba6d944269d12ec21c99e6fca": {
          "model_module": "@jupyter-widgets/controls",
          "model_name": "DescriptionStyleModel",
          "model_module_version": "1.5.0",
          "state": {
            "_model_module": "@jupyter-widgets/controls",
            "_model_module_version": "1.5.0",
            "_model_name": "DescriptionStyleModel",
            "_view_count": null,
            "_view_module": "@jupyter-widgets/base",
            "_view_module_version": "1.2.0",
            "_view_name": "StyleView",
            "description_width": ""
          }
        },
        "dc673bcf029a4622820bb05d30143e8c": {
          "model_module": "@jupyter-widgets/base",
          "model_name": "LayoutModel",
          "model_module_version": "1.2.0",
          "state": {
            "_model_module": "@jupyter-widgets/base",
            "_model_module_version": "1.2.0",
            "_model_name": "LayoutModel",
            "_view_count": null,
            "_view_module": "@jupyter-widgets/base",
            "_view_module_version": "1.2.0",
            "_view_name": "LayoutView",
            "align_content": null,
            "align_items": null,
            "align_self": null,
            "border": null,
            "bottom": null,
            "display": null,
            "flex": null,
            "flex_flow": null,
            "grid_area": null,
            "grid_auto_columns": null,
            "grid_auto_flow": null,
            "grid_auto_rows": null,
            "grid_column": null,
            "grid_gap": null,
            "grid_row": null,
            "grid_template_areas": null,
            "grid_template_columns": null,
            "grid_template_rows": null,
            "height": "24px",
            "justify_content": null,
            "justify_items": null,
            "left": null,
            "margin": null,
            "max_height": null,
            "max_width": null,
            "min_height": null,
            "min_width": null,
            "object_fit": null,
            "object_position": null,
            "order": null,
            "overflow": null,
            "overflow_x": null,
            "overflow_y": null,
            "padding": null,
            "right": null,
            "top": null,
            "visibility": null,
            "width": "300px"
          }
        },
        "f6263d1451ae437d97c4a7159e07f08f": {
          "model_module": "@jupyter-widgets/controls",
          "model_name": "DescriptionStyleModel",
          "model_module_version": "1.5.0",
          "state": {
            "_model_module": "@jupyter-widgets/controls",
            "_model_module_version": "1.5.0",
            "_model_name": "DescriptionStyleModel",
            "_view_count": null,
            "_view_module": "@jupyter-widgets/base",
            "_view_module_version": "1.2.0",
            "_view_name": "StyleView",
            "description_width": ""
          }
        }
      }
    }
  },
  "nbformat": 4,
  "nbformat_minor": 0
}